{
 "cells": [
  {
   "cell_type": "markdown",
   "metadata": {},
   "source": [
    "Web scrapping from an exams website:  \n",
    "https://www.emestrada.org/#fisica"
   ]
  },
  {
   "cell_type": "code",
   "execution_count": 13,
   "metadata": {},
   "outputs": [],
   "source": [
    "import requests\n",
    "from bs4 import BeautifulSoup"
   ]
  },
  {
   "cell_type": "markdown",
   "metadata": {},
   "source": [
    "URL to scrape"
   ]
  },
  {
   "cell_type": "code",
   "execution_count": 20,
   "metadata": {},
   "outputs": [],
   "source": [
    "URL_EXAMS = 'https://www.emestrada.org/#fisica'"
   ]
  },
  {
   "cell_type": "code",
   "execution_count": 54,
   "metadata": {},
   "outputs": [],
   "source": [
    "def scrape_links_from_web(url, file_extension = None):\n",
    "    \"\"\"\n",
    "    Scrape links from a given webpage and filter them based on specific criteria.\n",
    "\n",
    "    This custom script is specifically designed to extract links related to physics resources \n",
    "    (e.g., links containing 'fisica-andalucia') from a webpage. Optionally, it can filter links \n",
    "    by a specific file extension.\n",
    "\n",
    "    Parameters:\n",
    "        url (str): The URL of the webpage to scrape.\n",
    "        file_extension (str, optional): The file extension to filter links (e.g., '.pdf'). \n",
    "                                        If None, all links are considered.\n",
    "\n",
    "    Returns:\n",
    "        list: A list of filtered links containing 'fisica-andalucia'. If no such links are found, \n",
    "              an empty list is returned.\n",
    "\n",
    "    Notes:\n",
    "        - The function sends an HTTP GET request to the provided URL and parses the HTML content.\n",
    "        - Links are filtered to include only those that contain the keyword 'fisica-andalucia'.\n",
    "        - If the webpage cannot be retrieved, an error message is printed with the HTTP status code.\n",
    "    \"\"\"\n",
    "\n",
    "    # Send a GET request to the website\n",
    "    response = requests.get(url)\n",
    "    if response.status_code == 200:\n",
    "        # Parse the HTML content\n",
    "        soup = BeautifulSoup(response.text, 'html.parser')\n",
    "        \n",
    "        # Find all links on the page\n",
    "        if file_extension:\n",
    "            # Filter links by file extension\n",
    "            links = [link['href'] for link in soup.find_all('a', href=True) if link['href'].endswith(file_extension)]\n",
    "            return links\n",
    "\n",
    "        else:\n",
    "            links = [link['href'] for link in soup.find_all('a', href=True)]\n",
    "\n",
    "        \n",
    "        # filter links that contain 'fisica-andalucia' or selectividad-fisica\n",
    "        physics_links = []\n",
    "        for link in links:\n",
    "            if 'fisica-andalucia' in link or 'examen-selectividad-fisica' in link:\n",
    "                physics_links.append(link)\n",
    "        \n",
    "        return physics_links"
   ]
  },
  {
   "cell_type": "code",
   "execution_count": 55,
   "metadata": {},
   "outputs": [],
   "source": [
    "physics_links = scrape_links_from_web(URL_EXAMS)"
   ]
  },
  {
   "cell_type": "code",
   "execution_count": 49,
   "metadata": {},
   "outputs": [],
   "source": [
    "# separate links with new lines\n",
    "separated_links = '\\n'.join(physics_links)\n",
    "\n",
    "with open('links.txt', 'w') as file:\n",
    "    file.writelines(separated_links)"
   ]
  },
  {
   "cell_type": "markdown",
   "metadata": {},
   "source": [
    "### Store the links in a text file"
   ]
  },
  {
   "cell_type": "code",
   "execution_count": 56,
   "metadata": {},
   "outputs": [],
   "source": [
    "# separate links with new lines\n",
    "separated_links = '\\n'.join(physics_links)\n",
    "\n",
    "with open('physics_links.txt', 'w') as file:\n",
    "    file.writelines(separated_links)"
   ]
  },
  {
   "cell_type": "markdown",
   "metadata": {},
   "source": [
    "## Get the pdf link from each exam link"
   ]
  },
  {
   "cell_type": "code",
   "execution_count": 57,
   "metadata": {},
   "outputs": [],
   "source": [
    "pdf_links = []\n",
    "\n",
    "for exam in physics_links:\n",
    "    pdf_link = scrape_links_from_web(exam, file_extension='.pdf')[0]\n",
    "    pdf_links.append(pdf_link)\n",
    "\n",
    "# Save the PDF links to a file\n",
    "with open('physics_pdf_links.txt', 'w') as file:\n",
    "    file.writelines('\\n'.join(pdf_links))"
   ]
  },
  {
   "cell_type": "code",
   "execution_count": 58,
   "metadata": {},
   "outputs": [
    {
     "name": "stdout",
     "output_type": "stream",
     "text": [
      "PDF Links:\n",
      "\n",
      "https://www.emestrada.org/wp-content/uploads/2024/12/FIS-2024-JULIO.pdf\n",
      "https://www.emestrada.org/wp-content/uploads/2024/06/FIS-2024-JUNIO.pdf\n",
      "https://www.emestrada.org/wp-content/uploads/2023/11/FIS-2023-JULIO.pdf\n",
      "https://www.emestrada.org/wp-content/uploads/2023/06/FIS-2023-JUNIO.pdf\n",
      "https://www.emestrada.org/wp-content/uploads/2022/11/FIS-2022-JULIO.pdf\n",
      "https://www.emestrada.org/wp-content/uploads/2022/06/FIS-2022-JUNIO.pdf\n",
      "https://www.emestrada.org/wp-content/uploads/2021/12/FIS-2021-JULIO.pdf\n",
      "https://www.emestrada.org/wp-content/uploads/2021/06/FIS-2021-JUNIO.pdf\n",
      "https://www.emestrada.org/wp-content/uploads/2020/10/FIS-2020-SEPTIEMBRE.pdf\n",
      "https://www.emestrada.org/wp-content/uploads/2020/07/2020-JUNIO.pdf\n",
      "https://www.emestrada.org/wp-content/uploads/2020/01/2019-SEPTIEMBRE.pdf\n",
      "https://www.emestrada.org/wp-content/uploads/2020/01/2019-JUNIO.pdf\n",
      "https://www.emestrada.org/wp-content/uploads/2020/02/2018.-SEPTIEMBRE.pdf\n",
      "https://www.emestrada.org/wp-content/uploads/2020/02/2018.-JUNIO.pdf\n",
      "https://www.emestrada.org/wp-content/uploads/2020/02/2017.-SEPTIEMBRE.pdf\n",
      "https://www.emestrada.org/wp-content/uploads/2020/02/2017.-JUNIO.pdf\n",
      "https://www.emestrada.org/wp-content/uploads/2020/02/2016.-SEPTIEMBRE.pdf\n",
      "https://www.emestrada.org/wp-content/uploads/2020/02/2016.-JUNIO.pdf\n",
      "https://www.emestrada.org/wp-content/uploads/2024/12/FIS-2024-RESERVA-4.pdf\n",
      "https://www.emestrada.org/wp-content/uploads/2024/12/FIS-2024-RESERVA-3.pdf\n",
      "https://www.emestrada.org/wp-content/uploads/2024/12/FIS-2024-RESERVA-2.pdf\n",
      "https://www.emestrada.org/wp-content/uploads/2024/12/FIS-2024-RESERVA-1.pdf\n",
      "https://www.emestrada.org/wp-content/uploads/2023/11/FIS-2023-RESERVA-4.pdf\n",
      "https://www.emestrada.org/wp-content/uploads/2023/11/FIS-2023-RESERVA-3.pdf\n",
      "https://www.emestrada.org/wp-content/uploads/2023/11/FIS-2023-RESERVA-2.pdf\n",
      "https://www.emestrada.org/wp-content/uploads/2023/11/FIS-2023-RESERVA-1.pdf\n",
      "https://www.emestrada.org/wp-content/uploads/2022/11/FIS-2022-RESERVA-2.pdf\n",
      "https://www.emestrada.org/wp-content/uploads/2022/11/FIS-2022-RESERVA-1.pdf\n",
      "https://www.emestrada.org/wp-content/uploads/2022/11/FIS-2022-RESERVA-3.pdf\n",
      "https://www.emestrada.org/wp-content/uploads/2022/11/FIS-2022-RESERVA-4.pdf\n",
      "https://www.emestrada.org/wp-content/uploads/2021/12/FIS-2021-RESERVA-4.pdf\n",
      "https://www.emestrada.org/wp-content/uploads/2022/11/FIS-2022-RESERVA-3.pdf\n",
      "https://www.emestrada.org/wp-content/uploads/2021/12/FIS-2021-RESERVA-1.pdf\n",
      "https://www.emestrada.org/wp-content/uploads/2021/12/FIS-2021-RESERVA-2.pdf\n",
      "https://www.emestrada.org/wp-content/uploads/2021/02/FIS-2020-RESERVA-4.pdf\n",
      "https://www.emestrada.org/wp-content/uploads/2021/02/FIS-2020-RESERVA-3.pdf\n",
      "https://www.emestrada.org/wp-content/uploads/2021/02/FIS-2020-RESERVA-2.pdf\n",
      "https://www.emestrada.org/wp-content/uploads/2021/02/FIS-2020-RESERVA-1.pdf\n",
      "https://www.emestrada.org/wp-content/uploads/2020/01/2019-RESERVA-4.pdf\n",
      "https://www.emestrada.org/wp-content/uploads/2020/01/2019-RESERVA-3.pdf\n",
      "https://www.emestrada.org/wp-content/uploads/2020/01/2019-RESERVA-2.pdf\n",
      "https://www.emestrada.org/wp-content/uploads/2020/01/2019-RESERVA-1.pdf\n",
      "https://www.emestrada.org/wp-content/uploads/2020/02/2018.-RESERVA-4.pdf\n",
      "https://www.emestrada.org/wp-content/uploads/2020/02/2018.-RESERVA-3.pdf\n",
      "https://www.emestrada.org/wp-content/uploads/2020/02/2018.-RESERVA-2.pdf\n",
      "https://www.emestrada.org/wp-content/uploads/2020/02/2018.-RESERVA-1.pdf\n",
      "https://www.emestrada.org/wp-content/uploads/2020/02/2017.-RESERVA-4.pdf\n",
      "https://www.emestrada.org/wp-content/uploads/2020/02/2017.-RESERVA-3.pdf\n",
      "https://www.emestrada.org/wp-content/uploads/2020/02/2017.-RESERVA-2.pdf\n",
      "https://www.emestrada.org/wp-content/uploads/2020/02/2017.-RESERVA-1.pdf\n",
      "https://www.emestrada.org/wp-content/uploads/2020/02/2016.-RESERVA-4.pdf\n",
      "https://www.emestrada.org/wp-content/uploads/2020/02/2016.-RESERVA-3.pdf\n",
      "https://www.emestrada.org/wp-content/uploads/2020/02/2016.-RESERVA-2.pdf\n",
      "https://www.emestrada.org/wp-content/uploads/2020/02/2016.-RESERVA-2.pdf\n",
      "https://www.emestrada.org/wp-content/uploads/2024/10/FIS-2024-25.pdf\n"
     ]
    }
   ],
   "source": [
    "# Print the PDF links\n",
    "print('PDF Links:\\n')\n",
    "print(*pdf_links, sep='\\n')\n"
   ]
  },
  {
   "cell_type": "code",
   "execution_count": null,
   "metadata": {},
   "outputs": [],
   "source": []
  }
 ],
 "metadata": {
  "kernelspec": {
   "display_name": "venv",
   "language": "python",
   "name": "python3"
  },
  "language_info": {
   "codemirror_mode": {
    "name": "ipython",
    "version": 3
   },
   "file_extension": ".py",
   "mimetype": "text/x-python",
   "name": "python",
   "nbconvert_exporter": "python",
   "pygments_lexer": "ipython3",
   "version": "3.13.2"
  }
 },
 "nbformat": 4,
 "nbformat_minor": 2
}
