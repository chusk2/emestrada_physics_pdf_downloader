{
 "cells": [
  {
   "cell_type": "markdown",
   "metadata": {},
   "source": [
    "## Download pdf files from website"
   ]
  },
  {
   "cell_type": "code",
   "execution_count": 94,
   "metadata": {},
   "outputs": [],
   "source": [
    "import requests\n",
    "import os"
   ]
  },
  {
   "cell_type": "code",
   "execution_count": 95,
   "metadata": {},
   "outputs": [
    {
     "data": {
      "text/plain": [
       "'/home/daniel/git_code/fisica_crawler'"
      ]
     },
     "execution_count": 95,
     "metadata": {},
     "output_type": "execute_result"
    }
   ],
   "source": [
    "base_path = os.getcwd()\n",
    "base_path"
   ]
  },
  {
   "cell_type": "code",
   "execution_count": 3,
   "metadata": {},
   "outputs": [],
   "source": [
    "def download_pdf(url, save_path):\n",
    "    \"\"\"\n",
    "    Downloads a PDF file from the given URL and saves it to the specified path.\n",
    "    \n",
    "    :param url: URL of the PDF file to download\n",
    "    :param save_path: Path where the PDF file should be saved\n",
    "    \"\"\"\n",
    "    try:\n",
    "        # Send a GET request to the URL\n",
    "        response = requests.get(url, stream=True)\n",
    "        \n",
    "        # Raise an exception for bad status codes\n",
    "        response.raise_for_status()\n",
    "\n",
    "        # check if the file exists\n",
    "        file_already_downloaded = os.path.isfile(save_path)          \n",
    "        \n",
    "        if not file_already_downloaded:\n",
    "            # Open the file and write the content\n",
    "            with open(save_path, 'wb') as file:\n",
    "                for chunk in response.iter_content(chunk_size=8192):\n",
    "                    if chunk:\n",
    "                        file.write(chunk)\n",
    "            \n",
    "            print(f\"PDF {save_path} downloaded successfully!\")\n",
    "       \n",
    "    except Exception as e:\n",
    "        if response.status_code == 404:\n",
    "            pass\n",
    "        else:\n",
    "            print(f\"Error downloading {url}: {e}\")"
   ]
  },
  {
   "cell_type": "markdown",
   "metadata": {},
   "source": [
    "## Download the pdf files"
   ]
  },
  {
   "cell_type": "markdown",
   "metadata": {},
   "source": [
    "### Read the links from file"
   ]
  },
  {
   "cell_type": "code",
   "execution_count": 96,
   "metadata": {},
   "outputs": [],
   "source": [
    "os.chdir(base_path)"
   ]
  },
  {
   "cell_type": "code",
   "execution_count": 97,
   "metadata": {},
   "outputs": [],
   "source": [
    "with open('physics_pdf_links.txt', 'r') as file:\n",
    "    pdf_links = file.readlines()\n",
    "# Remove leading/trailing whitespace characters\n",
    "pdf_links = [link.strip() for link in pdf_links]"
   ]
  },
  {
   "cell_type": "code",
   "execution_count": 98,
   "metadata": {},
   "outputs": [
    {
     "data": {
      "text/plain": [
       "['https://www.emestrada.org/wp-content/uploads/2024/12/FIS-2024-JULIO.pdf',\n",
       " 'https://www.emestrada.org/wp-content/uploads/2024/06/FIS-2024-JUNIO.pdf',\n",
       " 'https://www.emestrada.org/wp-content/uploads/2023/11/FIS-2023-JULIO.pdf',\n",
       " 'https://www.emestrada.org/wp-content/uploads/2023/06/FIS-2023-JUNIO.pdf',\n",
       " 'https://www.emestrada.org/wp-content/uploads/2022/11/FIS-2022-JULIO.pdf']"
      ]
     },
     "execution_count": 98,
     "metadata": {},
     "output_type": "execute_result"
    }
   ],
   "source": [
    "pdf_links[:5]"
   ]
  },
  {
   "cell_type": "code",
   "execution_count": 99,
   "metadata": {},
   "outputs": [],
   "source": [
    "def extract_year_exam(text):\n",
    "    \"\"\"\n",
    "    Extracts the year and exam from the given text.\n",
    "    \n",
    "    :param text: The text containing the year and exam information\n",
    "    :return: A tuple containing the year and exam\n",
    "    \"\"\"\n",
    "    data_string = text.split('/')[-1].replace('.pdf', '')\n",
    "    if \"FIS\" in data_string:\n",
    "        data_string = data_string.replace('FIS-', '')\n",
    "    parts = data_string.split('-')\n",
    "    # Check if the string contains 'RESERVA' or not\n",
    "    # If 'RESERVA' is present, the format is different\n",
    "    if 'RESERVA' in data_string:\n",
    "        year = parts[0].replace('.', '')\n",
    "        exam = ' '.join(parts[1:3]).title()\n",
    "    else:\n",
    "        year = parts[0].replace('.', '')\n",
    "        exam = parts[1].title()\n",
    "    \n",
    "    return year, exam"
   ]
  },
  {
   "cell_type": "code",
   "execution_count": 100,
   "metadata": {},
   "outputs": [
    {
     "name": "stdout",
     "output_type": "stream",
     "text": [
      "('2024', 'Julio')\n",
      "('2024', 'Junio')\n",
      "('2023', 'Julio')\n",
      "('2023', 'Junio')\n",
      "('2022', 'Julio')\n",
      "('2022', 'Junio')\n",
      "('2021', 'Julio')\n",
      "('2021', 'Junio')\n",
      "('2020', 'Septiembre')\n",
      "('2020', 'Junio')\n",
      "('2019', 'Septiembre')\n",
      "('2019', 'Junio')\n",
      "('2018', 'Septiembre')\n",
      "('2018', 'Junio')\n",
      "('2017', 'Septiembre')\n",
      "('2017', 'Junio')\n",
      "('2016', 'Septiembre')\n",
      "('2016', 'Junio')\n",
      "('2024', 'Reserva 4')\n",
      "('2024', 'Reserva 3')\n",
      "('2024', 'Reserva 2')\n",
      "('2024', 'Reserva 1')\n",
      "('2023', 'Reserva 4')\n",
      "('2023', 'Reserva 3')\n",
      "('2023', 'Reserva 2')\n",
      "('2023', 'Reserva 1')\n",
      "('2022', 'Reserva 2')\n",
      "('2022', 'Reserva 1')\n",
      "('2022', 'Reserva 3')\n",
      "('2022', 'Reserva 4')\n",
      "('2021', 'Reserva 4')\n",
      "('2022', 'Reserva 3')\n",
      "('2021', 'Reserva 1')\n",
      "('2021', 'Reserva 2')\n",
      "('2020', 'Reserva 4')\n",
      "('2020', 'Reserva 3')\n",
      "('2020', 'Reserva 2')\n",
      "('2020', 'Reserva 1')\n",
      "('2019', 'Reserva 4')\n",
      "('2019', 'Reserva 3')\n",
      "('2019', 'Reserva 2')\n",
      "('2019', 'Reserva 1')\n",
      "('2018', 'Reserva 4')\n",
      "('2018', 'Reserva 3')\n",
      "('2018', 'Reserva 2')\n",
      "('2018', 'Reserva 1')\n",
      "('2017', 'Reserva 4')\n",
      "('2017', 'Reserva 3')\n",
      "('2017', 'Reserva 2')\n",
      "('2017', 'Reserva 1')\n",
      "('2016', 'Reserva 4')\n",
      "('2016', 'Reserva 3')\n",
      "('2016', 'Reserva 2')\n",
      "('2016', 'Reserva 2')\n"
     ]
    }
   ],
   "source": [
    "for i in pdf_links:\n",
    "    print(extract_year_exam(i))"
   ]
  },
  {
   "cell_type": "code",
   "execution_count": 101,
   "metadata": {},
   "outputs": [],
   "source": [
    "# Classify the exams\n",
    "exams = {}\n",
    "for i in pdf_links:\n",
    "    year, _ = extract_year_exam(i)\n",
    "    year = int(year)\n",
    "    if year not in exams:\n",
    "        exams[year] = []\n",
    "    # Append the exam to the corresponding year\n",
    "    exams[year].append(i)"
   ]
  },
  {
   "cell_type": "code",
   "execution_count": 102,
   "metadata": {},
   "outputs": [
    {
     "data": {
      "text/plain": [
       "['https://www.emestrada.org/wp-content/uploads/2021/12/FIS-2021-JULIO.pdf',\n",
       " 'https://www.emestrada.org/wp-content/uploads/2021/06/FIS-2021-JUNIO.pdf',\n",
       " 'https://www.emestrada.org/wp-content/uploads/2021/12/FIS-2021-RESERVA-4.pdf',\n",
       " 'https://www.emestrada.org/wp-content/uploads/2021/12/FIS-2021-RESERVA-1.pdf',\n",
       " 'https://www.emestrada.org/wp-content/uploads/2021/12/FIS-2021-RESERVA-2.pdf']"
      ]
     },
     "execution_count": 102,
     "metadata": {},
     "output_type": "execute_result"
    }
   ],
   "source": [
    "exams[2021]"
   ]
  },
  {
   "cell_type": "code",
   "execution_count": 104,
   "metadata": {},
   "outputs": [
    {
     "name": "stdout",
     "output_type": "stream",
     "text": [
      "PDF 2024 - Julio.pdf downloaded successfully!\n",
      "PDF 2024 - Junio.pdf downloaded successfully!\n",
      "PDF 2024 - Reserva 4.pdf downloaded successfully!\n",
      "PDF 2024 - Reserva 3.pdf downloaded successfully!\n",
      "PDF 2024 - Reserva 2.pdf downloaded successfully!\n",
      "PDF 2024 - Reserva 1.pdf downloaded successfully!\n",
      "PDF 2023 - Julio.pdf downloaded successfully!\n",
      "PDF 2023 - Junio.pdf downloaded successfully!\n",
      "PDF 2023 - Reserva 4.pdf downloaded successfully!\n",
      "PDF 2023 - Reserva 3.pdf downloaded successfully!\n",
      "PDF 2023 - Reserva 2.pdf downloaded successfully!\n",
      "PDF 2023 - Reserva 1.pdf downloaded successfully!\n",
      "PDF 2022 - Julio.pdf downloaded successfully!\n",
      "PDF 2022 - Junio.pdf downloaded successfully!\n",
      "PDF 2022 - Reserva 2.pdf downloaded successfully!\n",
      "PDF 2022 - Reserva 1.pdf downloaded successfully!\n",
      "PDF 2022 - Reserva 3.pdf downloaded successfully!\n",
      "PDF 2022 - Reserva 4.pdf downloaded successfully!\n",
      "PDF 2021 - Julio.pdf downloaded successfully!\n",
      "PDF 2021 - Junio.pdf downloaded successfully!\n",
      "PDF 2021 - Reserva 4.pdf downloaded successfully!\n",
      "PDF 2021 - Reserva 1.pdf downloaded successfully!\n",
      "PDF 2021 - Reserva 2.pdf downloaded successfully!\n",
      "PDF 2020 - Septiembre.pdf downloaded successfully!\n",
      "PDF 2020 - Junio.pdf downloaded successfully!\n",
      "PDF 2020 - Reserva 4.pdf downloaded successfully!\n",
      "PDF 2020 - Reserva 3.pdf downloaded successfully!\n",
      "PDF 2020 - Reserva 2.pdf downloaded successfully!\n",
      "PDF 2020 - Reserva 1.pdf downloaded successfully!\n",
      "PDF 2019 - Septiembre.pdf downloaded successfully!\n",
      "PDF 2019 - Junio.pdf downloaded successfully!\n",
      "PDF 2019 - Reserva 4.pdf downloaded successfully!\n",
      "PDF 2019 - Reserva 3.pdf downloaded successfully!\n",
      "PDF 2019 - Reserva 2.pdf downloaded successfully!\n",
      "PDF 2019 - Reserva 1.pdf downloaded successfully!\n",
      "PDF 2018 - Septiembre.pdf downloaded successfully!\n",
      "PDF 2018 - Junio.pdf downloaded successfully!\n",
      "PDF 2018 - Reserva 4.pdf downloaded successfully!\n",
      "PDF 2018 - Reserva 3.pdf downloaded successfully!\n",
      "PDF 2018 - Reserva 2.pdf downloaded successfully!\n",
      "PDF 2018 - Reserva 1.pdf downloaded successfully!\n",
      "PDF 2017 - Septiembre.pdf downloaded successfully!\n",
      "PDF 2017 - Junio.pdf downloaded successfully!\n",
      "PDF 2017 - Reserva 4.pdf downloaded successfully!\n",
      "PDF 2017 - Reserva 3.pdf downloaded successfully!\n",
      "PDF 2017 - Reserva 2.pdf downloaded successfully!\n",
      "PDF 2017 - Reserva 1.pdf downloaded successfully!\n",
      "PDF 2016 - Septiembre.pdf downloaded successfully!\n",
      "PDF 2016 - Junio.pdf downloaded successfully!\n",
      "PDF 2016 - Reserva 4.pdf downloaded successfully!\n",
      "PDF 2016 - Reserva 3.pdf downloaded successfully!\n",
      "PDF 2016 - Reserva 2.pdf downloaded successfully!\n"
     ]
    }
   ],
   "source": [
    "for year, links in exams.items():\n",
    "    # make subdirectory for each year\n",
    "    os.makedirs(f\"{base_path}/{year} - Fisica\", exist_ok=True)\n",
    "    os.chdir(f\"{base_path}/{year} - Fisica\")\n",
    "    # Download each PDF file\n",
    "    for link in links:\n",
    "        year, exam = extract_year_exam(link)\n",
    "        filename = f\"{year} - {exam}.pdf\"\n",
    "                \n",
    "        # Download the PDF file\n",
    "        download_pdf(link, filename)"
   ]
  },
  {
   "cell_type": "code",
   "execution_count": null,
   "metadata": {},
   "outputs": [],
   "source": []
  }
 ],
 "metadata": {
  "kernelspec": {
   "display_name": "venv",
   "language": "python",
   "name": "python3"
  },
  "language_info": {
   "codemirror_mode": {
    "name": "ipython",
    "version": 3
   },
   "file_extension": ".py",
   "mimetype": "text/x-python",
   "name": "python",
   "nbconvert_exporter": "python",
   "pygments_lexer": "ipython3",
   "version": "3.13.2"
  }
 },
 "nbformat": 4,
 "nbformat_minor": 2
}
